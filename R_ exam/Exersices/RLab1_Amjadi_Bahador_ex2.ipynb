{
 "cells": [
  {
   "cell_type": "markdown",
   "id": "37309c22",
   "metadata": {},
   "source": [
    "#  SET 2\n",
    "\n",
    "### Bahador Amjadi\n",
    "### Matricula:  2040470"
   ]
  },
  {
   "cell_type": "code",
   "execution_count": 1,
   "id": "3f6522ee",
   "metadata": {},
   "outputs": [
    {
     "name": "stderr",
     "output_type": "stream",
     "text": [
      "Warning message:\n",
      "\"package 'GoFKernel' was built under R version 3.6.3\"Loading required package: KernSmooth\n",
      "Warning message:\n",
      "\"package 'KernSmooth' was built under R version 3.6.3\"KernSmooth 2.23 loaded\n",
      "Copyright M. P. Wand 1997-2009\n",
      "Warning message:\n",
      "\"package 'reshape2' was built under R version 3.6.3\""
     ]
    }
   ],
   "source": [
    "library(ggplot2)\n",
    "library(GoFKernel) #for finding the inverse\n",
    "library(reshape2)  #for visualization"
   ]
  },
  {
   "cell_type": "markdown",
   "id": "5d1320e9",
   "metadata": {},
   "source": [
    "## Exercise 1"
   ]
  },
  {
   "cell_type": "code",
   "execution_count": 2,
   "id": "2524800c",
   "metadata": {},
   "outputs": [],
   "source": [
    "E.value <- function(x,p) {return(sum(x*p))}  #a function that calculates the expected value\n",
    "VAR     <- function(x,p) {return(E.value((x-E.value(x,p))**2, p))}  #a function that calculates variance\n",
    "\n",
    "x  <- c(15.58, 15.9, 16,16.1, 16.2  )\n",
    "p1 <- c(0.15, 0.21,  0.35,  0.15, 0.14)\n",
    "p2 <- c(0.14, 0.05, 0.64, 0.08, 0.09)"
   ]
  },
  {
   "cell_type": "code",
   "execution_count": 3,
   "id": "d1e780e8",
   "metadata": {},
   "outputs": [
    {
     "name": "stdout",
     "output_type": "stream",
     "text": [
      "Excepted Value of x for p1 is 15.959 \n",
      "Variance of x for p1 is 0.033979\n",
      "\n",
      "Excepted Value of x for p2 is 15.9622 \n",
      "Variance of x for p2 is 0.02816716"
     ]
    }
   ],
   "source": [
    "cat(\"Excepted Value of x for p1 is\", E.value(x,p1), \"\\nVariance of x for p1 is\",VAR(x,p1))\n",
    "cat('\\n\\n')\n",
    "cat(\"Excepted Value of x for p2 is\", E.value(x,p2), \"\\nVariance of x for p2 is\",VAR(x,p2))"
   ]
  },
  {
   "cell_type": "markdown",
   "id": "13e06af8",
   "metadata": {},
   "source": [
    "## Exercise 2"
   ]
  },
  {
   "cell_type": "code",
   "execution_count": 4,
   "id": "fbc3dbff",
   "metadata": {},
   "outputs": [],
   "source": [
    "options(repr.plot.width=4, repr.plot.height =2.5)  #changing size of plots"
   ]
  },
  {
   "cell_type": "code",
   "execution_count": 5,
   "id": "48c746b5",
   "metadata": {},
   "outputs": [
    {
     "data": {
      "image/png": "[encoded data removed]",
      "text/plain": [
       "plot without title"
      ]
     },
     "metadata": {},
     "output_type": "display_data"
    }
   ],
   "source": [
    "set.seed(1234)\n",
    "#part A\n",
    "rate = 1/30\n",
    "N    = 50\n",
    "df <- data.frame(person = seq(1,N) , time = rexp(N, rate))\n",
    "\n",
    "ggplot(df, aes(x=time)) + \n",
    "    geom_histogram(color=\"black\", fill=\"white\", bins=15) +\n",
    "    labs(title = \"Histogram of Waiting Time of 50 People\",\n",
    "    x = \"Waiting Time\",\n",
    "    y = \"frequency\")"
   ]
  },
  {
   "cell_type": "code",
   "execution_count": 6,
   "id": "c87ebc0c",
   "metadata": {},
   "outputs": [],
   "source": [
    "#These functions calculate the probability of x be more/less than a threshold\n",
    "prob.more.than <- function(x,threshold){return (length(x[x > threshold])/length(x))}\n",
    "prob.less.than <- function(x,threshold){return (length(x[x < threshold])/length(x))}"
   ]
  },
  {
   "cell_type": "code",
   "execution_count": 7,
   "id": "6e074b4e",
   "metadata": {},
   "outputs": [
    {
     "name": "stdout",
     "output_type": "stream",
     "text": [
      "The probability of waiting less than 10 minutes is 0.32"
     ]
    }
   ],
   "source": [
    "#Part B\n",
    "prob <- prob.less.than(df$time, 10)\n",
    "cat (\"The probability of waiting less than 10 minutes is\", prob)"
   ]
  },
  {
   "cell_type": "code",
   "execution_count": 8,
   "id": "c655e08b",
   "metadata": {},
   "outputs": [
    {
     "name": "stdout",
     "output_type": "stream",
     "text": [
      "The average waiting time in minutes is 29.67523"
     ]
    }
   ],
   "source": [
    "#Part C\n",
    "avg.value <- mean(df$time)\n",
    "cat(\"The average waiting time in minutes is\", avg.value)"
   ]
  },
  {
   "cell_type": "code",
   "execution_count": 9,
   "id": "8dfe5645",
   "metadata": {},
   "outputs": [
    {
     "name": "stdout",
     "output_type": "stream",
     "text": [
      "The probability of waiting more than 1 hour is 0.14"
     ]
    }
   ],
   "source": [
    "#part D\n",
    "prob <- prob.more.than(df$time, 60)\n",
    "cat (\"The probability of waiting more than 1 hour is\", prob)"
   ]
  },
  {
   "cell_type": "markdown",
   "id": "9b1edf8f",
   "metadata": {},
   "source": [
    "## Exercise 3"
   ]
  },
  {
   "cell_type": "code",
   "execution_count": 10,
   "id": "1907f55e",
   "metadata": {},
   "outputs": [],
   "source": [
    "#This fucntion finds the normalization constant of a given x\n",
    "norm.const <- function(x,a,b){return(1/integrate(x, a, b)$value)}"
   ]
  },
  {
   "cell_type": "code",
   "execution_count": 11,
   "id": "d666e6a4",
   "metadata": {},
   "outputs": [
    {
     "name": "stdout",
     "output_type": "stream",
     "text": [
      "The probability that there is at least 1 error in a specific page is 0.04462492"
     ]
    },
    {
     "data": {
      "image/png": "[encoded data removed]",
      "text/plain": [
       "plot without title"
      ]
     },
     "metadata": {},
     "output_type": "display_data"
    },
    {
     "data": {
      "image/png": "[encoded data removed]",
      "text/plain": [
       "plot without title"
      ]
     },
     "metadata": {},
     "output_type": "display_data"
    }
   ],
   "source": [
    "lambda = 1/3\n",
    "N      = 10\n",
    "df <- data.frame(no.errors = 1:N , error.pdf = dpois(1:N, lambda), error.cdf = ppois(1:N, lambda))\n",
    "\n",
    "prob <- ppois(1, lambda=1/3, lower=FALSE)\n",
    "cat(\"The probability that there is at least 1 error in a specific page is\", prob)\n",
    "#pdf\n",
    "ggplot(data = df, aes(x =no.errors , y = error.pdf)) +\n",
    "    labs(title = \"PDF of Errors\",\n",
    "    x = \"No. of Errors\",\n",
    "    y = \"Probability\") +\n",
    "    geom_line(color='black', lwd=0.55)\n",
    "#cdf\n",
    "ggplot(data = df, aes(x =no.errors , y = error.cdf)) +\n",
    "    labs(title = \"CDF of Errors\",\n",
    "    x = \"No. of Errors\",\n",
    "    y = \"Probability\") +\n",
    "    geom_line(color='black', lwd=0.55)"
   ]
  },
  {
   "cell_type": "markdown",
   "id": "df89b777",
   "metadata": {},
   "source": [
    "## Exercise 4"
   ]
  },
  {
   "cell_type": "code",
   "execution_count": 12,
   "id": "38eaa713",
   "metadata": {},
   "outputs": [],
   "source": [
    "#There are 4 aces among 52 cards\n",
    "#We should run the experiment for N times and plot the distribution of the number at which an ace was drawn\n",
    "\n",
    "N= 100000\n",
    "deck      <- rep(0, 48)       # 0 : non-ace cards\n",
    "deck      <- append(deck, rep(1,4))        # 1 : ace     cards\n",
    "ace.found.at <- vector()\n",
    "\n",
    "for (i in seq(1,N)){\n",
    "ace.found <- FALSE\n",
    "counter <- 1\n",
    "while (ace.found == FALSE){\n",
    "sample <- sample(deck,1,replace=TRUE)\n",
    "if (sample != 1){\n",
    "counter = counter + 1\n",
    "} else {\n",
    "ace.found = TRUE\n",
    "ace.found.at <- append(ace.found.at, counter)}}}\n",
    "\n",
    "df <- data.frame(ace.found.at = ace.found.at)"
   ]
  },
  {
   "cell_type": "code",
   "execution_count": 13,
   "id": "31ee2ed7",
   "metadata": {},
   "outputs": [
    {
     "name": "stdout",
     "output_type": "stream",
     "text": [
      "The probability we would need at least 10 tries to draw the ace is 0.44759"
     ]
    },
    {
     "data": {
      "image/png": "[encoded data removed]",
      "text/plain": [
       "plot without title"
      ]
     },
     "metadata": {},
     "output_type": "display_data"
    }
   ],
   "source": [
    "options(repr.plot.width=5, repr.plot.height =2.5) \n",
    "\n",
    "ggplot(df, aes(x=ace.found.at)) + \n",
    "    geom_histogram(color=\"black\", fill=\"white\", bins=2000) +\n",
    "    labs(title = \"Histogram of the Try at Which Ace Founded\",\n",
    "    x = \"Nth try at which the ace is found\",\n",
    "    y = \"frequency\")\n",
    "\n",
    "prob <- prob.more.than(ace.found.at, 10)\n",
    "# prob <- length(ace.found.at[ace.found.at > 10])/length(ace.found.at)\n",
    "cat(\"The probability we would need at least 10 tries to draw the ace is\", prob)"
   ]
  },
  {
   "cell_type": "markdown",
   "id": "133a6142",
   "metadata": {},
   "source": [
    "## Exercise 5"
   ]
  },
  {
   "cell_type": "code",
   "execution_count": 14,
   "id": "bc80d5f6",
   "metadata": {},
   "outputs": [
    {
     "name": "stdout",
     "output_type": "stream",
     "text": [
      "The normalization constant is 6"
     ]
    }
   ],
   "source": [
    "#part A\n",
    "dens.func <- function(t){(t-1)*(2-t)}\n",
    "c <- norm.const(dens.func, 1,2)  #normalization constant\n",
    "cat(\"The normalization constant is\", c)\n",
    "norm.dens.func <- function(t){6* (t-1)*(2-t)}"
   ]
  },
  {
   "cell_type": "markdown",
   "id": "996eff1d",
   "metadata": {},
   "source": [
    "#### p for \"probability\", the cumulative distribution function (c. d. f.)\n",
    "#### q for \"quantile\", the inverse c. d. f.\n",
    "#### d for \"density\", the density function (p. f. or p. d. f.)\n",
    "#### r for \"random\", a random variable having the specified distribution"
   ]
  },
  {
   "cell_type": "code",
   "execution_count": 15,
   "id": "986f50ba",
   "metadata": {},
   "outputs": [],
   "source": [
    "#part B, Writing set of four functions\n",
    "\n",
    "X    <- seq(1,2,0.01)\n",
    "DF   <- data.frame(X=X)  #A dataframe to store all the variables\n",
    "#pdf\n",
    "dfunc <- function(f){\n",
    "    pdf <- vector()\n",
    "    for (x in X){pdf <- append(pdf, f(x))}\n",
    "    DF$PDF <<- pdf}   #using global assignment operator\n",
    "\n",
    "#cdf\n",
    "pfunc    <- function(f){\n",
    "    cdf.func <- function(x){return(integrate(f,1,x)$value)}\n",
    "    cdf <- vector()\n",
    "    for (x in X){cdf <- append(cdf, cdf.func(x))}\n",
    "    DF$CDF <<- cdf}   \n",
    "\n",
    "#quantile\n",
    "qfunc  <- function(f){\n",
    "    cdf.func <- function(x){return(integrate(f,1,x)$value)}\n",
    "    quantile.func <- inverse(cdf.func, lower = 0, upper = 1)\n",
    "    q <- vector()\n",
    "    for (x in X){q <- append(q, quantile.func(x))}\n",
    "    DF$Quantile <<- q}  \n",
    "\n",
    "#random\n",
    "rfunc <- function(f){\n",
    "    cdf.func <- function(x){return(integrate(f,1,x)$value)}\n",
    "    quantile.func <- inverse(cdf.func, lower = 0, upper = 1)\n",
    "    X <- runif(101,0,1)\n",
    "    r <- vector()\n",
    "    for (x in X){r <- append(r, quantile.func(x))}\n",
    "    DF$Random <<- r}  "
   ]
  },
  {
   "cell_type": "code",
   "execution_count": 16,
   "id": "56ca5f0b",
   "metadata": {},
   "outputs": [],
   "source": [
    "#Running all the four functions and storing their output in DF\n",
    "dfunc(norm.dens.func)\n",
    "pfunc(norm.dens.func)\n",
    "qfunc(norm.dens.func)\n",
    "rfunc(norm.dens.func)"
   ]
  },
  {
   "cell_type": "code",
   "execution_count": 17,
   "id": "83c92af3",
   "metadata": {},
   "outputs": [
    {
     "data": {
      "text/html": [
       "<table>\n",
       "<thead><tr><th scope=col>X</th><th scope=col>PDF</th><th scope=col>CDF</th><th scope=col>Quantile</th><th scope=col>Random</th></tr></thead>\n",
       "<tbody>\n",
       "\t<tr><td>1.00     </td><td>0.0000   </td><td>0.000000 </td><td>0.5000000</td><td>0.6808575</td></tr>\n",
       "\t<tr><td>1.01     </td><td>0.0594   </td><td>0.000298 </td><td>0.4977843</td><td>0.8902078</td></tr>\n",
       "\t<tr><td>1.02     </td><td>0.1176   </td><td>0.001184 </td><td>0.4955830</td><td>0.6657660</td></tr>\n",
       "\t<tr><td>1.03     </td><td>0.1746   </td><td>0.002646 </td><td>0.4933930</td><td>0.5394261</td></tr>\n",
       "\t<tr><td>1.04     </td><td>0.2304   </td><td>0.004672 </td><td>0.4912156</td><td>0.5446115</td></tr>\n",
       "\t<tr><td>1.05     </td><td>0.2850   </td><td>0.007250 </td><td>0.4890507</td><td>0.6326159</td></tr>\n",
       "</tbody>\n",
       "</table>\n"
      ],
      "text/latex": [
       "\\begin{tabular}{r|lllll}\n",
       " X & PDF & CDF & Quantile & Random\\\\\n",
       "\\hline\n",
       "\t 1.00      & 0.0000    & 0.000000  & 0.5000000 & 0.6808575\\\\\n",
       "\t 1.01      & 0.0594    & 0.000298  & 0.4977843 & 0.8902078\\\\\n",
       "\t 1.02      & 0.1176    & 0.001184  & 0.4955830 & 0.6657660\\\\\n",
       "\t 1.03      & 0.1746    & 0.002646  & 0.4933930 & 0.5394261\\\\\n",
       "\t 1.04      & 0.2304    & 0.004672  & 0.4912156 & 0.5446115\\\\\n",
       "\t 1.05      & 0.2850    & 0.007250  & 0.4890507 & 0.6326159\\\\\n",
       "\\end{tabular}\n"
      ],
      "text/markdown": [
       "\n",
       "| X | PDF | CDF | Quantile | Random |\n",
       "|---|---|---|---|---|\n",
       "| 1.00      | 0.0000    | 0.000000  | 0.5000000 | 0.6808575 |\n",
       "| 1.01      | 0.0594    | 0.000298  | 0.4977843 | 0.8902078 |\n",
       "| 1.02      | 0.1176    | 0.001184  | 0.4955830 | 0.6657660 |\n",
       "| 1.03      | 0.1746    | 0.002646  | 0.4933930 | 0.5394261 |\n",
       "| 1.04      | 0.2304    | 0.004672  | 0.4912156 | 0.5446115 |\n",
       "| 1.05      | 0.2850    | 0.007250  | 0.4890507 | 0.6326159 |\n",
       "\n"
      ],
      "text/plain": [
       "  X    PDF    CDF      Quantile  Random   \n",
       "1 1.00 0.0000 0.000000 0.5000000 0.6808575\n",
       "2 1.01 0.0594 0.000298 0.4977843 0.8902078\n",
       "3 1.02 0.1176 0.001184 0.4955830 0.6657660\n",
       "4 1.03 0.1746 0.002646 0.4933930 0.5394261\n",
       "5 1.04 0.2304 0.004672 0.4912156 0.5446115\n",
       "6 1.05 0.2850 0.007250 0.4890507 0.6326159"
      ]
     },
     "metadata": {},
     "output_type": "display_data"
    }
   ],
   "source": [
    "head(DF)  #A dataframe to store all the variables"
   ]
  },
  {
   "cell_type": "code",
   "execution_count": 18,
   "id": "cb7e2d69",
   "metadata": {},
   "outputs": [
    {
     "data": {
      "image/png": "[encoded data removed]",
      "text/plain": [
       "plot without title"
      ]
     },
     "metadata": {},
     "output_type": "display_data"
    }
   ],
   "source": [
    "#Plotting the Stored Data\n",
    "\n",
    "#melt data frame into long format\n",
    "df <- melt(DF ,  id.vars = 'X', variable.name = 'series')\n",
    "\n",
    "options(repr.plot.width=6, repr.plot.height =4)  #changing size of plots\n",
    "ggplot(data = df, aes(x = X, y = value)) +\n",
    "    geom_line() +\n",
    "    facet_wrap(facets = vars(series))+\n",
    "    labs(title = \"The Set of 4 R Functions for TOLC-I Finishing Time\",\n",
    "         x = \"Time (hours)\",\n",
    "         y = \"Probability\")"
   ]
  },
  {
   "cell_type": "code",
   "execution_count": 19,
   "id": "3207d56d",
   "metadata": {},
   "outputs": [
    {
     "name": "stdout",
     "output_type": "stream",
     "text": [
      "The probability that the student will finish the test in more than 75 minutes is 0.84375\n",
      "The probability that the student will finish the test between 90 and 120 minutes is 0.5"
     ]
    }
   ],
   "source": [
    "#part C\n",
    "#since we are provided with the analytic function we use integration for this part\n",
    "norm.dens.func <- function(t){c*(t-1)*(2-t)}\n",
    "\n",
    "#prob of finishing in more than 75 minutes:\n",
    "prob <- integrate(norm.dens.func, 1.25, 2)$value\n",
    "cat(\"The probability that the student will finish the test in more than 75 minutes is\", prob)\n",
    "cat(\"\\n\")\n",
    "#prob of finishing between 90 and 120 minutes \n",
    "prob <- integrate(norm.dens.func, 1.5, 2)$value\n",
    "cat(\"The probability that the student will finish the test between 90 and 120 minutes is\", prob)"
   ]
  },
  {
   "cell_type": "markdown",
   "id": "1fdd75f4",
   "metadata": {},
   "source": [
    "## Exercise 6"
   ]
  },
  {
   "cell_type": "code",
   "execution_count": 20,
   "id": "7aa7a00b",
   "metadata": {},
   "outputs": [],
   "source": [
    "dens.func <- function(x){return(2/(x**2))}"
   ]
  },
  {
   "cell_type": "code",
   "execution_count": 21,
   "id": "15a96cfe",
   "metadata": {},
   "outputs": [],
   "source": [
    "#part A\n",
    "X    <- seq(1,2,0.01)\n",
    "DF   <- data.frame(X=X)  # A dataframe to store all the variables\n",
    "\n",
    "dfunc(dens.func)\n",
    "pfunc(dens.func)\n",
    "# Warning: The other two functions lead to a divergant integral, therefore are not included here\n",
    "# qfunc(norm.dens.func)\n",
    "# rfunc(norm.dens.func)"
   ]
  },
  {
   "cell_type": "code",
   "execution_count": 22,
   "id": "39e95638",
   "metadata": {},
   "outputs": [
    {
     "data": {
      "text/html": [
       "<table>\n",
       "<thead><tr><th scope=col>X</th><th scope=col>PDF</th><th scope=col>CDF</th></tr></thead>\n",
       "<tbody>\n",
       "\t<tr><td>1.00      </td><td>2.000000  </td><td>0.00000000</td></tr>\n",
       "\t<tr><td>1.01      </td><td>1.960592  </td><td>0.01980198</td></tr>\n",
       "\t<tr><td>1.02      </td><td>1.922338  </td><td>0.03921569</td></tr>\n",
       "\t<tr><td>1.03      </td><td>1.885192  </td><td>0.05825243</td></tr>\n",
       "\t<tr><td>1.04      </td><td>1.849112  </td><td>0.07692308</td></tr>\n",
       "\t<tr><td>1.05      </td><td>1.814059  </td><td>0.09523810</td></tr>\n",
       "</tbody>\n",
       "</table>\n"
      ],
      "text/latex": [
       "\\begin{tabular}{r|lll}\n",
       " X & PDF & CDF\\\\\n",
       "\\hline\n",
       "\t 1.00       & 2.000000   & 0.00000000\\\\\n",
       "\t 1.01       & 1.960592   & 0.01980198\\\\\n",
       "\t 1.02       & 1.922338   & 0.03921569\\\\\n",
       "\t 1.03       & 1.885192   & 0.05825243\\\\\n",
       "\t 1.04       & 1.849112   & 0.07692308\\\\\n",
       "\t 1.05       & 1.814059   & 0.09523810\\\\\n",
       "\\end{tabular}\n"
      ],
      "text/markdown": [
       "\n",
       "| X | PDF | CDF |\n",
       "|---|---|---|\n",
       "| 1.00       | 2.000000   | 0.00000000 |\n",
       "| 1.01       | 1.960592   | 0.01980198 |\n",
       "| 1.02       | 1.922338   | 0.03921569 |\n",
       "| 1.03       | 1.885192   | 0.05825243 |\n",
       "| 1.04       | 1.849112   | 0.07692308 |\n",
       "| 1.05       | 1.814059   | 0.09523810 |\n",
       "\n"
      ],
      "text/plain": [
       "  X    PDF      CDF       \n",
       "1 1.00 2.000000 0.00000000\n",
       "2 1.01 1.960592 0.01980198\n",
       "3 1.02 1.922338 0.03921569\n",
       "4 1.03 1.885192 0.05825243\n",
       "5 1.04 1.849112 0.07692308\n",
       "6 1.05 1.814059 0.09523810"
      ]
     },
     "metadata": {},
     "output_type": "display_data"
    }
   ],
   "source": [
    "head(DF)"
   ]
  },
  {
   "cell_type": "code",
   "execution_count": 23,
   "id": "3c4d13af",
   "metadata": {},
   "outputs": [
    {
     "data": {
      "image/png": "[encoded data removed]",
      "text/plain": [
       "plot without title"
      ]
     },
     "metadata": {},
     "output_type": "display_data"
    }
   ],
   "source": [
    "#Plotting the Stored Data\n",
    "\n",
    "#melt data frame into long format\n",
    "df <- melt(DF ,  id.vars = 'X', variable.name = 'series')\n",
    "\n",
    "options(repr.plot.width=6, repr.plot.height =3)  #changing size of plots\n",
    "ggplot(data = df, aes(x = X, y = value)) +\n",
    "    geom_line() +\n",
    "    facet_wrap(facets = vars(series))+\n",
    "    labs(title = \"PDF and CDF functions of Tires Lifetime\",\n",
    "         x = \"x\",\n",
    "         y = \"probability\")"
   ]
  },
  {
   "cell_type": "code",
   "execution_count": 24,
   "id": "01ec2ec1",
   "metadata": {},
   "outputs": [
    {
     "name": "stdout",
     "output_type": "stream",
     "text": [
      "The probability that the tire will last less than 15000km is 0.5"
     ]
    }
   ],
   "source": [
    "#part B\n",
    "#prob that tire last less than 15000 km:\n",
    "prob <- integrate(norm.dens.func, 1, 1.5)$value\n",
    "cat(\"The probability that the tire will last less than 15000km is\", prob)"
   ]
  },
  {
   "cell_type": "code",
   "execution_count": 25,
   "id": "776abd2d",
   "metadata": {},
   "outputs": [
    {
     "name": "stdout",
     "output_type": "stream",
     "text": [
      "The mean value of x is 1.385449\n",
      "The variance of x is 0.08128658"
     ]
    }
   ],
   "source": [
    "#part C\n",
    "N= 3000\n",
    "samples <- runif(N) + 1    #generating uniform random numbers between 1 and 2\n",
    "probs <- dens.func(samples)\n",
    "probs <- probs/sum(probs)  #normalizing the probabilites\n",
    "\n",
    "cat(\"The mean value of x is\", E.value(samples, probs))\n",
    "cat(\"\\n\")\n",
    "cat(\"The variance of x is\",  VAR(samples, probs))"
   ]
  }
 ],
 "metadata": {
  "kernelspec": {
   "display_name": "R",
   "language": "R",
   "name": "ir"
  },
  "language_info": {
   "codemirror_mode": "r",
   "file_extension": ".r",
   "mimetype": "text/x-r-source",
   "name": "R",
   "pygments_lexer": "r",
   "version": "3.6.1"
  }
 },
 "nbformat": 4,
 "nbformat_minor": 5
}
