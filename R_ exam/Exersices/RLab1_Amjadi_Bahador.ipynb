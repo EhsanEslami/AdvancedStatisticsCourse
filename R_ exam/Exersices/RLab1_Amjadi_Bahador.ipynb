{
 "cells": [
  {
   "cell_type": "markdown",
   "id": "69154e3e",
   "metadata": {},
   "source": [
    "#  SET 1\n",
    "\n",
    "### Bahador Amjadi\n",
    "### Matricula: 2040470\n",
    "\n",
    "### important: *please use the data source which is included in the zip file*"
   ]
  },
  {
   "cell_type": "markdown",
   "id": "232001d5",
   "metadata": {},
   "source": [
    "## Exercise 1 - Vectors and Data Frames"
   ]
  },
  {
   "cell_type": "code",
   "execution_count": 1,
   "id": "cbca6bdc",
   "metadata": {},
   "outputs": [
    {
     "ename": "ERROR",
     "evalue": "Error in library(ggplot2): there is no package called 'ggplot2'\n",
     "output_type": "error",
     "traceback": [
      "Error in library(ggplot2): there is no package called 'ggplot2'\nTraceback:\n",
      "1. library(ggplot2)"
     ]
    }
   ],
   "source": [
    "library(ggplot2)"
   ]
  },
  {
   "cell_type": "code",
   "execution_count": 2,
   "id": "31cb1619",
   "metadata": {},
   "outputs": [
    {
     "name": "stderr",
     "output_type": "stream",
     "text": [
      "Warning message in install.packages(\"ggplot2\"):\n",
      "\"'lib = \"C:/ProgramData/Anaconda3/Lib/R/library\"' is not writable\""
     ]
    },
    {
     "ename": "ERROR",
     "evalue": "Error in install.packages(\"ggplot2\"): unable to install packages\n",
     "output_type": "error",
     "traceback": [
      "Error in install.packages(\"ggplot2\"): unable to install packages\nTraceback:\n",
      "1. install.packages(\"ggplot2\")",
      "2. stop(\"unable to install packages\")"
     ]
    }
   ],
   "source": [
    "install.packages('ggplot2')"
   ]
  },
  {
   "cell_type": "code",
   "execution_count": 2,
   "id": "937a3ab0",
   "metadata": {},
   "outputs": [],
   "source": [
    "Name       <-c('Ness','Lomond','Morar','Tay','Awe','Maree','Ericht','Lochy','Rannoch','Shiel','Katrine','Arkaig','Shin')\n",
    "Volume     <-c(7.45,2.6,2.3,1.6,1.2,1.09,1.08,1.07,0.97,0.79,0.77,0.75,0.35)\n",
    "Area       <-c(56,71,27,26.4,39,28.6,18.6,16,19,19.5,12.4,16,22.5)\n",
    "Length     <-c(39,36,18.8,23,41,20,23,16,15.7,28,12.9,19.3,27.8)\n",
    "Max.depth  <-c(230,190,310,150,94,114,156,162,134,128,151,109,49)\n",
    "Mean.depth <-c(132,37,87,60.6,32,38,57.6,70,51,40,43.4,46.5,15.5)\n",
    "\n",
    "scottish.lakes <- data.frame(Name, Volume, Area, Length, Max.depth, Mean.depth)"
   ]
  },
  {
   "cell_type": "code",
   "execution_count": 3,
   "id": "1e78aee3",
   "metadata": {},
   "outputs": [
    {
     "name": "stdout",
     "output_type": "stream",
     "text": [
      "Largest Lake by area is Lomond with the Area of 71 km^2\n",
      "Smallest Lake by area is Katrine with the Area of 12.4 km^2\n",
      "Largest Lake by Volume is Ness with the Volume of 7.45 km^3\n",
      "Smallest Lake by Volume is Shin With the Volume of 0.35 km^3"
     ]
    }
   ],
   "source": [
    "#part(I), evaluating the area and volume\n",
    "\n",
    "largest.area = max(scottish.lakes$Area) \n",
    "#finding the index of max value using which function in base package\n",
    "largest.area.name = scottish.lakes$Name[which.max(scottish.lakes$Area)]\n",
    "cat(\"Largest Lake by area is\", paste(largest.area.name), \n",
    "    \"with the Area of\", largest.area, \"km^2\")\n",
    "cat(\"\\n\")\n",
    "\n",
    "lowest.area = min(scottish.lakes$Area) \n",
    "#finding the index of max value using which function in base package\n",
    "lowest.area.name = scottish.lakes$Name[which.min(scottish.lakes$Area)]\n",
    "cat(\"Smallest Lake by area is\", paste(lowest.area.name), \n",
    "    \"with the Area of\", lowest.area, \"km^2\")\n",
    "cat(\"\\n\")\n",
    "\n",
    "largest.vol = max(scottish.lakes$Volume) \n",
    "#finding the index of max value using which function in base package\n",
    "largest.vol.name = scottish.lakes$Name[which.max(scottish.lakes$Volume)]\n",
    "cat(\"Largest Lake by Volume is\", paste(largest.vol.name), \n",
    "    \"with the Volume of\", largest.vol, \"km^3\")\n",
    "cat(\"\\n\")\n",
    "\n",
    "lowest.vol = min(scottish.lakes$Volume) \n",
    "#finding the index of max value using which function in base package\n",
    "lowest.vol.name = scottish.lakes$Name[which.min(scottish.lakes$Volume)]\n",
    "cat(\"Smallest Lake by Volume is\", paste(lowest.vol.name), \n",
    "    \"With the Volume of\", lowest.vol, \"km^3\")"
   ]
  },
  {
   "cell_type": "code",
   "execution_count": 4,
   "id": "c85aba7d",
   "metadata": {},
   "outputs": [
    {
     "name": "stdout",
     "output_type": "stream",
     "text": [
      "Two Largeset Lakes by Area: Lomond and Ness"
     ]
    }
   ],
   "source": [
    "#Part (II), Ordering the dataframe w.r.t area and..\n",
    "scottish.lakes.ord <- scottish.lakes[order(-Area),] #minus sign: Descending Order\n",
    "first_largest_lake =  scottish.lakes.ord$Name[1]\n",
    "second_largest_lake = scottish.lakes.ord$Name[2]\n",
    "\n",
    "cat(\"Two Largeset Lakes by Area:\", paste(first_largest_lake), \n",
    "    \"and\", paste(second_largest_lake))"
   ]
  },
  {
   "cell_type": "code",
   "execution_count": 5,
   "id": "a4bf42f7",
   "metadata": {},
   "outputs": [
    {
     "name": "stdout",
     "output_type": "stream",
     "text": [
      "Area of Scotland covered by Water: 372 km^2"
     ]
    }
   ],
   "source": [
    "#Part (III), by summing up the areas occpupied...\n",
    "scot_water_area= sum(scottish.lakes$Area)\n",
    "cat(\"Area of Scotland covered by Water:\", scot_water_area, \"km^2\")"
   ]
  },
  {
   "cell_type": "markdown",
   "id": "c21f8a1b",
   "metadata": {},
   "source": [
    "## Exercise 2 - Crude Oil Production"
   ]
  },
  {
   "cell_type": "code",
   "execution_count": 6,
   "id": "5cb54a80",
   "metadata": {},
   "outputs": [],
   "source": [
    "#Part (I): Write R code that is able to read the file and import it...\n",
    "crude.oil <- read.csv(\"./data/crude-oil-prices.csv\")"
   ]
  },
  {
   "cell_type": "code",
   "execution_count": 7,
   "id": "5df67539",
   "metadata": {},
   "outputs": [
    {
     "data": {
      "image/png": "[encoded data removed]",
      "text/plain": [
       "plot without title"
      ]
     },
     "metadata": {},
     "output_type": "display_data"
    }
   ],
   "source": [
    "#Part (II): Produce a plot with the Oil price as a function of the year\n",
    "options(repr.plot.width=5, repr.plot.height =3)  #changing size of plots\n",
    "ggplot(data = crude.oil, aes(x = Year, y = Price)) +\n",
    "    labs(title = \"Crude Oil Price per Year since 1861\",\n",
    "    x = \"Year\",\n",
    "    y = \"Price\") +\n",
    "    geom_line(color='black', lwd=0.55)"
   ]
  },
  {
   "cell_type": "code",
   "execution_count": 8,
   "id": "61974ce7",
   "metadata": {},
   "outputs": [
    {
     "name": "stdout",
     "output_type": "stream",
     "text": [
      "Maximum Price is 111.6697 which happend in the Year 2012"
     ]
    },
    {
     "data": {
      "image/png": "[encoded data removed]",
      "text/plain": [
       "plot without title"
      ]
     },
     "metadata": {},
     "output_type": "display_data"
    }
   ],
   "source": [
    "#Part (III): Which is the highest price in history? When did it occur?\n",
    "max.price      = max(crude.oil$Price)\n",
    "#using which function to find the index of maximum value for price\n",
    "max.price.year = crude.oil$Year[which.max(crude.oil$Price)]\n",
    "cat(\"Maximum Price is\", max.price, \n",
    "    \"which happend in the Year\", max.price.year)\n",
    "\n",
    "ggplot(data = crude.oil, aes(x = Year, y = Price)) +\n",
    "    labs(title = \"Crude Oil Price per Year since 1861\",\n",
    "    x = \"Year\",\n",
    "    y = \"Price\") +\n",
    "    geom_line(color='black', lwd=0.55) +\n",
    "    geom_vline(xintercept= max.price.year, linetype='dotted', col = 'red', lwd=0.7)+ \n",
    "    annotate(\"text\", x = max.price.year-20, y = max.price-2,col='red', label = \"Maximum Price\", size=3)"
   ]
  },
  {
   "cell_type": "code",
   "execution_count": 9,
   "id": "5b250c20",
   "metadata": {},
   "outputs": [
    {
     "data": {
      "image/png": "[encoded data removed]",
      "text/plain": [
       "plot without title"
      ]
     },
     "metadata": {},
     "output_type": "display_data"
    }
   ],
   "source": [
    "#Part (IV): Plot the derivative of the curve...\n",
    "#shifring rhe columns to calculate the derivation\n",
    "der.curve  <- crude.oil$Price[2:length(crude.oil$Price)] -crude.oil$Price[1:length(crude.oil$Price)-1]\n",
    "Year       <- crude.oil$Year[1:length(crude.oil$Price)-1]\n",
    "Derivation <- der.curve\n",
    "df         <- data.frame(Year, der.curve)   #building a dataframe for ggplot2\n",
    "\n",
    "ggplot(data = df, aes(x = Year, y = Derivation )) +\n",
    "    labs(title = \"Derivative Curve of Crude Oil Price\",\n",
    "    x = \"Year\",\n",
    "    y = \"Derivation of Price\") +\n",
    "    geom_line(color='black', lwd=0.55) "
   ]
  },
  {
   "cell_type": "markdown",
   "id": "0b60f1a6",
   "metadata": {},
   "source": [
    "## Exercise 3 - World Coal Production"
   ]
  },
  {
   "cell_type": "code",
   "execution_count": 10,
   "id": "74977b5c",
   "metadata": {},
   "outputs": [
    {
     "name": "stderr",
     "output_type": "stream",
     "text": [
      "Warning message:\n",
      "\"package 'tibble' was built under R version 3.6.3\""
     ]
    }
   ],
   "source": [
    "#Part (I), Write R code that is able to read... Using tibble structure\n",
    "# install.packages(\"tibble\")\n",
    "library(tibble)"
   ]
  },
  {
   "cell_type": "code",
   "execution_count": 11,
   "id": "7ed833d7",
   "metadata": {},
   "outputs": [],
   "source": [
    "coal.prod <- as_tibble(read.csv(\"./data/coal-production-by-country.csv\"))"
   ]
  },
  {
   "cell_type": "code",
   "execution_count": 12,
   "id": "70df66f5",
   "metadata": {},
   "outputs": [
    {
     "name": "stdout",
     "output_type": "stream",
     "text": [
      "There are 11528 countries in total in the list \n",
      "There are 200 Unique Countries in the List"
     ]
    },
    {
     "data": {
      "image/png": "[encoded data removed]",
      "text/plain": [
       "plot without title"
      ]
     },
     "metadata": {},
     "output_type": "display_data"
    }
   ],
   "source": [
    "#Part (II), Count the number of countries available in the file...\n",
    "num_countries        <- length(coal.prod$Entity)\n",
    "num_countries_unique <- length(unique(coal.prod$Entity)) #eliminiating repeated items\n",
    "cat(\"There are\", num_countries , \"countries in total in the list \\n\")\n",
    "cat(\"There are\", num_countries_unique, \"Unique Countries in the List\")\n",
    "\n",
    "#table works somehow similar to histogram\n",
    "barplot(table(coal.prod$Entity))"
   ]
  },
  {
   "cell_type": "code",
   "execution_count": 13,
   "id": "227d53e8",
   "metadata": {},
   "outputs": [
    {
     "name": "stdout",
     "output_type": "stream",
     "text": [
      "Top 5 Countries w.r.t total Oil Production since 1970:\n"
     ]
    },
    {
     "data": {
      "text/html": [
       "<table>\n",
       "<thead><tr><th scope=col>Entity</th><th scope=col>Code</th><th scope=col>total.prod</th></tr></thead>\n",
       "<tbody>\n",
       "\t<tr><td>China        </td><td>CHN          </td><td>459564.6     </td></tr>\n",
       "\t<tr><td>OECD         </td><td>             </td><td>428754.2     </td></tr>\n",
       "\t<tr><td>North America</td><td>             </td><td>244443.4     </td></tr>\n",
       "\t<tr><td>United States</td><td>USA          </td><td>226068.8     </td></tr>\n",
       "\t<tr><td>Eurasia      </td><td>             </td><td>157923.6     </td></tr>\n",
       "\t<tr><td>Europe       </td><td>             </td><td>149902.1     </td></tr>\n",
       "</tbody>\n",
       "</table>\n"
      ],
      "text/latex": [
       "\\begin{tabular}{r|lll}\n",
       " Entity & Code & total.prod\\\\\n",
       "\\hline\n",
       "\t China         & CHN           & 459564.6     \\\\\n",
       "\t OECD          &               & 428754.2     \\\\\n",
       "\t North America &               & 244443.4     \\\\\n",
       "\t United States & USA           & 226068.8     \\\\\n",
       "\t Eurasia       &               & 157923.6     \\\\\n",
       "\t Europe        &               & 149902.1     \\\\\n",
       "\\end{tabular}\n"
      ],
      "text/markdown": [
       "\n",
       "| Entity | Code | total.prod |\n",
       "|---|---|---|\n",
       "| China         | CHN           | 459564.6      |\n",
       "| OECD          |               | 428754.2      |\n",
       "| North America |               | 244443.4      |\n",
       "| United States | USA           | 226068.8      |\n",
       "| Eurasia       |               | 157923.6      |\n",
       "| Europe        |               | 149902.1      |\n",
       "\n"
      ],
      "text/plain": [
       "  Entity        Code total.prod\n",
       "1 China         CHN  459564.6  \n",
       "2 OECD               428754.2  \n",
       "3 North America      244443.4  \n",
       "4 United States USA  226068.8  \n",
       "5 Eurasia            157923.6  \n",
       "6 Europe             149902.1  "
      ]
     },
     "metadata": {},
     "output_type": "display_data"
    }
   ],
   "source": [
    "#Part (III), selecting only the year after 1970, determine the total integrated production...\n",
    "filtered.coal.prod <- coal.prod[coal.prod$Year >1970, ]\n",
    "#Adding new column to our dataframe which stands for total production of each country\n",
    "filtered.coal.prod$total.prod <- rep(0, length(filtered.coal.prod$Entity))\n",
    "\n",
    "#A for loop which calculates the total production for each country\n",
    "for (country in filtered.coal.prod$Entity){\n",
    "    #isolating each country to calcualte all of its production\n",
    "    single_country <- filtered.coal.prod[filtered.coal.prod$Entity == country, ]\n",
    "    tot.prod <- sum(single_country[, 'production'])\n",
    "    #then we should add the total prod. of each country to the new total.prod column of dataframe\n",
    "    filtered.coal.prod[filtered.coal.prod$Entity==country, ]$total.prod <- tot.prod #\n",
    "    }\n",
    "#Now we should sort the countries w.r.t their total production\n",
    "sorted.data <- filtered.coal.prod[order(-filtered.coal.prod$total.prod),]\n",
    "#let's drop some useless columns\n",
    "sorted.data$Year       <- NULL\n",
    "sorted.data$production <- NULL\n",
    "top.five    <- unique(sorted.data)[4:9,] #skipping the fisrt three elements which are not country\n",
    "cat(\"Top 5 Countries w.r.t total Oil Production since 1970:\\n\")\n",
    "top.five"
   ]
  },
  {
   "cell_type": "code",
   "execution_count": 14,
   "id": "6fc50d7d",
   "metadata": {},
   "outputs": [
    {
     "data": {
      "image/png": "[encoded data removed]",
      "text/plain": [
       "plot without title"
      ]
     },
     "metadata": {},
     "output_type": "display_data"
    }
   ],
   "source": [
    "top.five <- data.frame(top.five)\n",
    "# top.five<- top.five[order(total.prod),]\n",
    "ggplot(top.five, aes(x=Entity, y=total.prod)) + \n",
    "      labs(title = \"Top 5 Oil Productive Countries\",\n",
    "           x = \"Country\",\n",
    "           y = \"Total Production\") +\n",
    "      geom_bar(stat = \"identity\", fill=rgb(0.1,0.4,0.5,0.7))"
   ]
  },
  {
   "cell_type": "code",
   "execution_count": 15,
   "id": "14d06768",
   "metadata": {},
   "outputs": [
    {
     "data": {
      "image/png": "[encoded data removed]",
      "text/plain": [
       "plot without title"
      ]
     },
     "metadata": {},
     "output_type": "display_data"
    }
   ],
   "source": [
    "#Part(IV): For the 5 top Countries, create a plot of production as a function of time\n",
    "#Filtering the main dataframe with 5 top countries in the main dataframe\n",
    "df <- filtered.coal.prod[filtered.coal.prod$Entity==top.five$Entity[1]  |\n",
    "                         filtered.coal.prod$Entity==top.five$Entity[2]  | \n",
    "                         filtered.coal.prod$Entity==top.five$Entity[3]  |  \n",
    "                         filtered.coal.prod$Entity==top.five$Entity[4]  |  \n",
    "                         filtered.coal.prod$Entity==top.five$Entity[5], ]\n",
    "options(repr.plot.width=6, repr.plot.height =3)  #changing size of plots\n",
    "ggplot(data = df, aes(x = Year, y = production, color = Entity)) +\n",
    "    labs(title = \"Yearly Oil Production of the Top 5 Oil Productive Countries\",\n",
    "    x = \"Year\",\n",
    "    y = \"Production\") +\n",
    "    geom_line(lwd=0.55)"
   ]
  },
  {
   "cell_type": "code",
   "execution_count": 16,
   "id": "d454eb3e",
   "metadata": {},
   "outputs": [
    {
     "data": {
      "image/png": "[encoded data removed]",
      "text/plain": [
       "plot without title"
      ]
     },
     "metadata": {},
     "output_type": "display_data"
    }
   ],
   "source": [
    "#Part(V), generate a plot with the cumulative sum of the World's coal production over the years\n",
    "df <- filtered.coal.prod[filtered.coal.prod$Entity=='World', ]\n",
    "\n",
    "ggplot(data = df, aes(x = Year, y = production)) +\n",
    "    labs(title = \"Cumulative Sum of World's Coal Production\",\n",
    "    x = \"Year\",\n",
    "    y = \"Production\") +\n",
    "    geom_line(color='black', lwd=0.55) "
   ]
  },
  {
   "cell_type": "markdown",
   "id": "26afdd60",
   "metadata": {},
   "source": [
    "## Exercise 4 - Covid19 Vaccine data"
   ]
  },
  {
   "cell_type": "code",
   "execution_count": 17,
   "id": "bde48aa4",
   "metadata": {},
   "outputs": [],
   "source": [
    "# library(tidyverse)"
   ]
  },
  {
   "cell_type": "code",
   "execution_count": 18,
   "id": "589ae480",
   "metadata": {},
   "outputs": [
    {
     "name": "stderr",
     "output_type": "stream",
     "text": [
      "Warning message:\n",
      "\"package 'dplyr' was built under R version 3.6.3\"\n",
      "Attaching package: 'dplyr'\n",
      "\n",
      "The following objects are masked from 'package:stats':\n",
      "\n",
      "    filter, lag\n",
      "\n",
      "The following objects are masked from 'package:base':\n",
      "\n",
      "    intersect, setdiff, setequal, union\n",
      "\n"
     ]
    }
   ],
   "source": [
    "library(dplyr) #for filter"
   ]
  },
  {
   "cell_type": "code",
   "execution_count": 19,
   "id": "e9330c50",
   "metadata": {},
   "outputs": [],
   "source": [
    "library(tibble)"
   ]
  },
  {
   "cell_type": "code",
   "execution_count": 20,
   "id": "6da15673",
   "metadata": {},
   "outputs": [
    {
     "name": "stderr",
     "output_type": "stream",
     "text": [
      "Warning message:\n",
      "\"package 'readr' was built under R version 3.6.3\""
     ]
    }
   ],
   "source": [
    "library(readr) #for read.csv"
   ]
  },
  {
   "cell_type": "code",
   "execution_count": 21,
   "id": "0c313820",
   "metadata": {},
   "outputs": [
    {
     "name": "stderr",
     "output_type": "stream",
     "text": [
      "\n",
      "\u001b[36m--\u001b[39m \u001b[1m\u001b[1mColumn specification\u001b[1m\u001b[22m \u001b[36m------------------------------------------------------------------------------------------------\u001b[39m\n",
      "cols(\n",
      "  location = col_character(),\n",
      "  date = col_date(format = \"\"),\n",
      "  vaccine = col_character(),\n",
      "  total_vaccinations = col_double()\n",
      ")\n",
      "\n"
     ]
    }
   ],
   "source": [
    "# Part(I): filter() the original tibble by selecting the following countries: Italy\n",
    "vac       <- read_csv(\"./data/vaccinations-by-manufacturer.csv\")\n",
    "vac.italy <- filter(vac, location==\"Italy\")"
   ]
  },
  {
   "cell_type": "code",
   "execution_count": 22,
   "id": "db70bedb",
   "metadata": {},
   "outputs": [
    {
     "data": {
      "image/png": "[encoded data removed]",
      "text/plain": [
       "plot without title"
      ]
     },
     "metadata": {},
     "output_type": "display_data"
    }
   ],
   "source": [
    "# #Part(II), plot the number of vaccines given as a function of time for the different vaccine manufacturer\n",
    "\n",
    "ggplot(data = vac.italy, aes(x = date, y = total_vaccinations , color = vaccine)) +\n",
    "    labs(title = \"Number of Daily Vaccines for Different Vaccine manufacturer\",\n",
    "    x = \"Date\",\n",
    "    y = \"Year\") +\n",
    "    geom_line(lwd=0.55)"
   ]
  },
  {
   "cell_type": "code",
   "execution_count": 23,
   "id": "d2748ed4",
   "metadata": {},
   "outputs": [
    {
     "data": {
      "image/png": "[encoded data removed]",
      "text/plain": [
       "plot without title"
      ]
     },
     "metadata": {},
     "output_type": "display_data"
    }
   ],
   "source": [
    "#Part(III), From the same tibble plot the total number of vaccines shot per day in Italy\n",
    "#Since this is going to be repeated for other countries, we write a function taking the country as input\n",
    "\n",
    "tot.num.vac <- function(country.name) {\n",
    "    vac.con    <- filter(vac, location==country.name)\n",
    "    #Building a new dataframe to store the total number of vacciantion for each day\n",
    "    vac.date   <- unique(vac.con$date)\n",
    "    vac.number <- rep(0, length(unique(vac.con$date)))\n",
    "    df         <- data.frame(country.name, vac.date , vac.number)\n",
    "\n",
    "    for (date in vac.date){\n",
    "        single.date <- vac.con [vac.con $date==date,]\n",
    "        vac.num     <- sum(single.date[, 'total_vaccinations'])\n",
    "        df[df$vac.date==date, ]$vac.number <- vac.num }\n",
    "\n",
    "    #next line lets us pass the function variable to plot's title\n",
    "    title2 = substitute(\"Total Number of Vaccines shot per Day in \"* title, list(title = country.name))\n",
    "    ggplot(data = df, aes(x = vac.date, y = vac.number, color=Entity)) +\n",
    "    labs(title =title2,\n",
    "    x = \"Date\", \n",
    "    y = \"Number of Vaccines\") +\n",
    "    geom_line(color='black', lwd=0.55) \n",
    "}\n",
    "\n",
    "tot.num.vac(\"Italy\")"
   ]
  },
  {
   "cell_type": "code",
   "execution_count": 24,
   "id": "616d34e5",
   "metadata": {},
   "outputs": [
    {
     "data": {
      "image/png": "[encoded data removed]",
      "text/plain": [
       "plot without title"
      ]
     },
     "metadata": {},
     "output_type": "display_data"
    },
    {
     "data": {
      "image/png": "[encoded data removed]",
      "text/plain": [
       "plot without title"
      ]
     },
     "metadata": {},
     "output_type": "display_data"
    }
   ],
   "source": [
    "#Part(IV), Do the same exercise for the following countries: Germany and United States of America\n",
    "#using the function defined in previous exercise\n",
    "tot.num.vac(\"Germany\")       #Germany\n",
    "tot.num.vac(\"United States\") #America"
   ]
  },
  {
   "cell_type": "code",
   "execution_count": 25,
   "id": "0aa3c9ce",
   "metadata": {},
   "outputs": [
    {
     "name": "stderr",
     "output_type": "stream",
     "text": [
      "\n",
      "\u001b[36m--\u001b[39m \u001b[1m\u001b[1mColumn specification\u001b[1m\u001b[22m \u001b[36m------------------------------------------------------------------------------------------------\u001b[39m\n",
      "cols(\n",
      "  location = col_character(),\n",
      "  iso_code = col_character(),\n",
      "  date = col_date(format = \"\"),\n",
      "  total_vaccinations = col_double(),\n",
      "  people_vaccinated = col_double(),\n",
      "  people_fully_vaccinated = col_double(),\n",
      "  total_boosters = col_double(),\n",
      "  daily_vaccinations_raw = col_double(),\n",
      "  daily_vaccinations = col_double(),\n",
      "  total_vaccinations_per_hundred = col_double(),\n",
      "  people_vaccinated_per_hundred = col_double(),\n",
      "  people_fully_vaccinated_per_hundred = col_double(),\n",
      "  total_boosters_per_hundred = col_double(),\n",
      "  daily_vaccinations_per_million = col_double(),\n",
      "  daily_people_vaccinated = col_double(),\n",
      "  daily_people_vaccinated_per_hundred = col_double()\n",
      ")\n",
      "\n"
     ]
    }
   ],
   "source": [
    "#Part(V), selecting all the European countries in the tibble, plot the number of daily...\n",
    "vac       <- read_csv(\"./data/vaccinations.csv\")\n",
    "#European countries iso_code: \"OWID_EUR\""
   ]
  },
  {
   "cell_type": "code",
   "execution_count": 26,
   "id": "158346c0",
   "metadata": {},
   "outputs": [
    {
     "data": {
      "image/png": "[encoded data removed]",
      "text/plain": [
       "plot without title"
      ]
     },
     "metadata": {},
     "output_type": "display_data"
    }
   ],
   "source": [
    "vac.eu <- filter(vac, iso_code == \"OWID_EUR\")\n",
    "\n",
    "ggplot(data = vac.eu, aes(x = date, y = daily_vaccinations_per_million)) +\n",
    "    labs(title = \"European Coutnries overall Vaccines shot per Day\",\n",
    "    x = \"Date\",\n",
    "    y = \"Number of Vaccines\") +\n",
    "    geom_line(lwd=0.55)"
   ]
  },
  {
   "cell_type": "code",
   "execution_count": 27,
   "id": "b69e9e2c",
   "metadata": {},
   "outputs": [
    {
     "name": "stderr",
     "output_type": "stream",
     "text": [
      "Warning message:\n",
      "\"Removed 19 row(s) containing missing values (geom_path).\""
     ]
    },
    {
     "data": {
      "image/png": "[encoded data removed]",
      "text/plain": [
       "plot without title"
      ]
     },
     "metadata": {},
     "output_type": "display_data"
    }
   ],
   "source": [
    "#Part(VI), study the data structure and produce few relevant plots of your taste\n",
    "#Since eruope has enough data for each country we keep it but try to measure something new\n",
    "#Comparing Number of Fully Vaccinated People vs Semi-Vaccinated Ones\n",
    "\n",
    "df <- data.frame(vac.eu$date, vac.eu$people_vaccinated, vac.eu$people_fully_vaccinated)\n",
    "\n",
    "\n",
    "colors <- c(\"Fully vacciated\" = \"red\", \"Semi vaccinated\" = \"gray\")\n",
    "\n",
    "ggplot(data= df, aes(x=vac.eu.date)) + \n",
    "    labs(title = \"Number of Eu Fully Vaccinated People vs Semi-Vaccinated Ones\",\n",
    "    x = \"Date\",\n",
    "    y = \"Number of People\") +\n",
    "    geom_line(aes(y = vac.eu.people_vaccinated, color= \"Fully vacciated\"), lwd = 0.6) + \n",
    "    geom_line(aes(y = vac.eu.people_fully_vaccinated, color=\"Semi vaccianted\"), lwd = 0.6) +\n",
    "    scale_color_manual(values=colors)"
   ]
  },
  {
   "cell_type": "code",
   "execution_count": 28,
   "id": "4e760ae9",
   "metadata": {},
   "outputs": [
    {
     "data": {
      "image/png": "[encoded data removed]",
      "text/plain": [
       "plot without title"
      ]
     },
     "metadata": {},
     "output_type": "display_data"
    }
   ],
   "source": [
    "#Comparing the total number of vaccine shots in europe vs africa\n",
    "\n",
    "vac.af <- filter(vac, iso_code == \"OWID_AFR\" )\n",
    "df <- data.frame(vac.af$date, vac.af$daily_vaccinations_per_million, vac.eu$daily_vaccinations_per_million[1:446])\n",
    "\n",
    "\n",
    "colors <- c(\"Total Vaccine Shots in Africa\" = \"red\", \"Total Vaccine Shots in Europe\" = \"blue\")\n",
    "\n",
    "ggplot(data= df, aes(x=vac.af.date)) + \n",
    "    labs(title = \"Number of Vaccines Shot In Europe vs Africa\",\n",
    "    x = \"Date\",\n",
    "    y = \"Number of People\") +\n",
    "    geom_line(aes(y = vac.af.daily_vaccinations_per_million, color= \"Total Vaccine Shots in Africa\"), lwd = 0.6) + \n",
    "    geom_line(aes(y = vac.eu.daily_vaccinations_per_million.1.446., color= \"Total Vaccine Shots in Europe\"), lwd = 0.6) +\n",
    "    scale_color_manual(values=colors)"
   ]
  }
 ],
 "metadata": {
  "kernelspec": {
   "display_name": "R",
   "language": "R",
   "name": "ir"
  },
  "language_info": {
   "codemirror_mode": "r",
   "file_extension": ".r",
   "mimetype": "text/x-r-source",
   "name": "R",
   "pygments_lexer": "r",
   "version": "3.6.1"
  }
 },
 "nbformat": 4,
 "nbformat_minor": 5
}
