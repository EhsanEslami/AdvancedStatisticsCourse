{
 "cells": [
  {
   "cell_type": "markdown",
   "id": "46b6cb60",
   "metadata": {},
   "source": [
    "# SET 3\n",
    "\n",
    "### Bahador Amjadi\n",
    "### 2040470"
   ]
  },
  {
   "cell_type": "code",
   "execution_count": 1,
   "id": "13d18a02",
   "metadata": {},
   "outputs": [
    {
     "name": "stderr",
     "output_type": "stream",
     "text": [
      "Warning message:\n",
      "\"package 'reshape2' was built under R version 3.6.3\""
     ]
    }
   ],
   "source": [
    "library(ggplot2)\n",
    "library(reshape2)  #for visualization purpose"
   ]
  },
  {
   "cell_type": "markdown",
   "id": "dc527211",
   "metadata": {},
   "source": [
    "## Exercise 1"
   ]
  },
  {
   "cell_type": "code",
   "execution_count": 2,
   "id": "dfc81ba3",
   "metadata": {},
   "outputs": [],
   "source": [
    "triang.func <- function(x, a , b ,c){\n",
    "    if      (a<=x & x<c)   {output <- (2*(x-a))/((b-a)*(c-a))}\n",
    "    else if (c<=x & x<=b)  {output <- ((2*(b-x))/((b-a)*(b-c)))}\n",
    "    else                   {output <- (0)}\n",
    "    return(output)}\n",
    "\n",
    "\n",
    "func.plotter <- function(f, a, b, c){\n",
    "    X    <- seq(a,b,0.01)\n",
    "    df   <- data.frame(X=X)  \n",
    "    F <- vector()\n",
    "    for (x in X){F <- append(F, f(x, a, b, c))}\n",
    "    df$F <- F   \n",
    "    max.y <<- max(df$F)\n",
    "    \n",
    "    ggplot(data = df, aes(x =X , y = F)) +\n",
    "    labs(title = \"The Triangular Distribution\",\n",
    "    x = \"X\",\n",
    "    y = \"pdf\") +\n",
    "    geom_line(color='black', lwd=0.7)\n",
    "    \n",
    "}"
   ]
  },
  {
   "cell_type": "code",
   "execution_count": 3,
   "id": "a9e1dd50",
   "metadata": {},
   "outputs": [
    {
     "data": {
      "image/png": "[encoded data removed]",
      "text/plain": [
       "plot without title"
      ]
     },
     "metadata": {},
     "output_type": "display_data"
    }
   ],
   "source": [
    "#part a\n",
    "options(repr.plot.width=5, repr.plot.height =3)  #changing size of plots\n",
    "\n",
    "func.plotter(triang.func, 1, 9, 2.5)"
   ]
  },
  {
   "cell_type": "code",
   "execution_count": 4,
   "id": "3f607589",
   "metadata": {},
   "outputs": [],
   "source": [
    "#part b\n",
    "set.seed(123)\n",
    "#We try to use accept-reject method to generate random numbers from this distribution \n",
    "random.generator <- function(triang.func, a , b, c){\n",
    "    \n",
    "    N     <- 30000           #trying with 30000 points to be sure we have at least 10000 accepted points\n",
    "    x <- runif(N,a,b)\n",
    "    y <- runif(N,0,max.y)\n",
    "    accepted.x <- vector()\n",
    "    accepted.y <- vector()\n",
    "    \n",
    "    for (i in seq(1,N)) {if (y[i] < triang.func(x[i], a, b, c)){\n",
    "        accepted.x <- append(accepted.x, x[i])\n",
    "        accepted.y <- append(accepted.y, y[i])\n",
    "    }}\n",
    "    \n",
    "    df <- data.frame(X = accepted.x , Y = accepted.y)\n",
    "    return(df)\n",
    "}"
   ]
  },
  {
   "cell_type": "code",
   "execution_count": 5,
   "id": "072ee216",
   "metadata": {},
   "outputs": [
    {
     "data": {
      "text/html": [
       "<table>\n",
       "<thead><tr><th scope=col>X</th></tr></thead>\n",
       "<tbody>\n",
       "\t<tr><td>3.300620</td></tr>\n",
       "\t<tr><td>4.271815</td></tr>\n",
       "\t<tr><td>4.652918</td></tr>\n",
       "\t<tr><td>4.626673</td></tr>\n",
       "\t<tr><td>6.420565</td></tr>\n",
       "\t<tr><td>5.581067</td></tr>\n",
       "</tbody>\n",
       "</table>\n"
      ],
      "text/latex": [
       "\\begin{tabular}{r|l}\n",
       " X\\\\\n",
       "\\hline\n",
       "\t 3.300620\\\\\n",
       "\t 4.271815\\\\\n",
       "\t 4.652918\\\\\n",
       "\t 4.626673\\\\\n",
       "\t 6.420565\\\\\n",
       "\t 5.581067\\\\\n",
       "\\end{tabular}\n"
      ],
      "text/markdown": [
       "\n",
       "| X |\n",
       "|---|\n",
       "| 3.300620 |\n",
       "| 4.271815 |\n",
       "| 4.652918 |\n",
       "| 4.626673 |\n",
       "| 6.420565 |\n",
       "| 5.581067 |\n",
       "\n"
      ],
      "text/plain": [
       "  X       \n",
       "1 3.300620\n",
       "2 4.271815\n",
       "3 4.652918\n",
       "4 4.626673\n",
       "5 6.420565\n",
       "6 5.581067"
      ]
     },
     "metadata": {},
     "output_type": "display_data"
    }
   ],
   "source": [
    "df <- random.generator(triang.func, 1, 9, 2.5)\n",
    "\n",
    "#value generated via triang pdf:\n",
    "head(df[1])"
   ]
  },
  {
   "cell_type": "code",
   "execution_count": 6,
   "id": "df82f0d1",
   "metadata": {},
   "outputs": [],
   "source": [
    "df <- data.frame(x.hist = df[1:10000, 1])  # we keep 10000 samples"
   ]
  },
  {
   "cell_type": "code",
   "execution_count": 7,
   "id": "fc8148c2",
   "metadata": {},
   "outputs": [],
   "source": [
    "X    <- seq(1,9,0.0008)\n",
    "F <- vector()\n",
    "for (x in X){F <- append(F, triang.func(x, 1, 9, 2.5))}\n",
    "df$x.analytic <- F[1:10000]\n",
    "df$X          <- X[1:10000]"
   ]
  },
  {
   "cell_type": "code",
   "execution_count": 8,
   "id": "ee625059",
   "metadata": {},
   "outputs": [
    {
     "data": {
      "text/html": [
       "<table>\n",
       "<thead><tr><th scope=col>x.hist</th><th scope=col>x.analytic</th><th scope=col>X</th></tr></thead>\n",
       "<tbody>\n",
       "\t<tr><td>3.300620    </td><td>0.0000000000</td><td>1.0000      </td></tr>\n",
       "\t<tr><td>4.271815    </td><td>0.0001333333</td><td>1.0008      </td></tr>\n",
       "\t<tr><td>4.652918    </td><td>0.0002666667</td><td>1.0016      </td></tr>\n",
       "\t<tr><td>4.626673    </td><td>0.0004000000</td><td>1.0024      </td></tr>\n",
       "\t<tr><td>6.420565    </td><td>0.0005333333</td><td>1.0032      </td></tr>\n",
       "\t<tr><td>5.581067    </td><td>0.0006666667</td><td>1.0040      </td></tr>\n",
       "</tbody>\n",
       "</table>\n"
      ],
      "text/latex": [
       "\\begin{tabular}{r|lll}\n",
       " x.hist & x.analytic & X\\\\\n",
       "\\hline\n",
       "\t 3.300620     & 0.0000000000 & 1.0000      \\\\\n",
       "\t 4.271815     & 0.0001333333 & 1.0008      \\\\\n",
       "\t 4.652918     & 0.0002666667 & 1.0016      \\\\\n",
       "\t 4.626673     & 0.0004000000 & 1.0024      \\\\\n",
       "\t 6.420565     & 0.0005333333 & 1.0032      \\\\\n",
       "\t 5.581067     & 0.0006666667 & 1.0040      \\\\\n",
       "\\end{tabular}\n"
      ],
      "text/markdown": [
       "\n",
       "| x.hist | x.analytic | X |\n",
       "|---|---|---|\n",
       "| 3.300620     | 0.0000000000 | 1.0000       |\n",
       "| 4.271815     | 0.0001333333 | 1.0008       |\n",
       "| 4.652918     | 0.0002666667 | 1.0016       |\n",
       "| 4.626673     | 0.0004000000 | 1.0024       |\n",
       "| 6.420565     | 0.0005333333 | 1.0032       |\n",
       "| 5.581067     | 0.0006666667 | 1.0040       |\n",
       "\n"
      ],
      "text/plain": [
       "  x.hist   x.analytic   X     \n",
       "1 3.300620 0.0000000000 1.0000\n",
       "2 4.271815 0.0001333333 1.0008\n",
       "3 4.652918 0.0002666667 1.0016\n",
       "4 4.626673 0.0004000000 1.0024\n",
       "5 6.420565 0.0005333333 1.0032\n",
       "6 5.581067 0.0006666667 1.0040"
      ]
     },
     "metadata": {},
     "output_type": "display_data"
    }
   ],
   "source": [
    "#the final dataframe, ready for plot\n",
    "head(df)"
   ]
  },
  {
   "cell_type": "code",
   "execution_count": 9,
   "id": "bd946fb8",
   "metadata": {},
   "outputs": [
    {
     "name": "stderr",
     "output_type": "stream",
     "text": [
      "Warning message:\n",
      "\"Use of `df$x.hist` is discouraged. Use `x.hist` instead.\"Warning message:\n",
      "\"Use of `df$X` is discouraged. Use `X` instead.\"Warning message:\n",
      "\"Use of `df$x.analytic` is discouraged. Use `x.analytic` instead.\"`stat_bin()` using `bins = 30`. Pick better value with `binwidth`.\n"
     ]
    },
    {
     "data": {
      "image/png": "[encoded data removed]",
      "text/plain": [
       "plot without title"
      ]
     },
     "metadata": {},
     "output_type": "display_data"
    }
   ],
   "source": [
    "ggplot(df, aes(x=df$x.hist)) +\n",
    "    geom_histogram( color=\"darkblue\", fill=\"lightblue\") + \n",
    "    geom_line(aes(x=df$X , y =2750* df$x.analytic), color = 'red') + \n",
    "    labs(title = \"Approxiamte Superimposed Curve of Triangular Dist.\",\n",
    "    x = \"X\",\n",
    "    y = \"frequnecy\")"
   ]
  },
  {
   "cell_type": "markdown",
   "id": "c665f192",
   "metadata": {},
   "source": [
    "## Exercise 2 - Markov’s inequality"
   ]
  },
  {
   "cell_type": "code",
   "execution_count": 10,
   "id": "bf619a60",
   "metadata": {},
   "outputs": [
    {
     "data": {
      "image/png": "[encoded data removed]",
      "text/plain": [
       "plot without title"
      ]
     },
     "metadata": {},
     "output_type": "display_data"
    }
   ],
   "source": [
    "options(repr.plot.width=5, repr.plot.height =3)  #changing size of plots\n",
    "\n",
    "X    <- seq(1,10,0.01)\n",
    "DF   <- data.frame(X=X)\n",
    "Gexp    <- function(){\n",
    "    Gexp.func <- function(x){return(1- pexp(x,1))}\n",
    "    exp <- vector()\n",
    "    for (x in X){exp <- append(exp, Gexp.func(x))}\n",
    "    DF$G.EXP        <<- exp\n",
    "    DF$markov.bound <<- (1/X)  #E = 1/lambda = 1\n",
    "}\n",
    "\n",
    "Gexp()\n",
    "\n",
    "ggplot(data = DF, aes(x = X)) +\n",
    "  geom_line(aes(y = G.EXP, colour = \"G.EXP\"), lwd=0.7) + \n",
    "  geom_line(aes(y = markov.bound, colour = \"Markov.Bound\"), linetype = \"dashed\", lwd=0.7) + \n",
    "  labs(title = \"G(k) and Markov Bound on Exponential Dist.\",\n",
    "         x = \"X\",\n",
    "         y = \"Prob.\")"
   ]
  },
  {
   "cell_type": "code",
   "execution_count": 11,
   "id": "fb0381c5",
   "metadata": {},
   "outputs": [
    {
     "data": {
      "image/png": "[encoded data removed]",
      "text/plain": [
       "plot without title"
      ]
     },
     "metadata": {},
     "output_type": "display_data"
    }
   ],
   "source": [
    "X    <- seq(1,10,0.01)\n",
    "DF   <- data.frame(X=X)\n",
    "Guni    <- function(){\n",
    "    Guni.func <- function(x){return(1- punif(x, min= 3, max= 5))}\n",
    "    uni <- vector()\n",
    "    for (x in X){uni <- append(uni, Guni.func(x))}\n",
    "    DF$G.UNI        <<- uni\n",
    "    DF$markov.bound <<- (4/X)  #E = (3+5)/2\n",
    "}\n",
    "\n",
    "Guni()\n",
    "\n",
    "ggplot(data = DF, aes(x = X)) +\n",
    "  geom_line(aes(y = G.UNI, colour = \"G.UNI\"), lwd=0.7) + \n",
    "  geom_line(aes(y = markov.bound, colour = \"Markov.Bound\"), linetype = \"dashed\", lwd=0.7) +\n",
    "  labs(title = \"G(k) and Markov Bound on Uniform Dist.\",\n",
    "         x = \"X\",\n",
    "         y = \"Prob.\")"
   ]
  },
  {
   "cell_type": "code",
   "execution_count": 12,
   "id": "39d97a17",
   "metadata": {},
   "outputs": [
    {
     "data": {
      "image/png": "[encoded data removed]",
      "text/plain": [
       "plot without title"
      ]
     },
     "metadata": {},
     "output_type": "display_data"
    }
   ],
   "source": [
    "X    <- seq(1,10)\n",
    "DF   <- data.frame(X=X)   \n",
    "\n",
    "Gbino    <- function(){\n",
    "    Gbinom.func <- function(x){return(1- pbinom(x,size = 1,  p = 1/2))}\n",
    "    binom <- vector()\n",
    "    for (x in X){binom <- append(binom, Gbinom.func(x))}\n",
    "    DF$G.BINOM <<- binom\n",
    "    DF$markov.bound <<- (0.5/X)  #E = n*p = 0.5\n",
    "}    \n",
    "Gbino()\n",
    "       \n",
    "ggplot(data = DF, aes(x = X)) +\n",
    "  geom_line(aes(y = G.BINOM     , colour = \"G.BINOM\"), lwd=0.7) + \n",
    "  geom_line(aes(y = markov.bound, colour = \"Markov.Bound\"), linetype = \"dashed\", lwd=0.7) +\n",
    "  labs(title = \"G(k) and Markov Bound on Binomial Dist.\",\n",
    "         x = \"X\",\n",
    "         y = \"Prob.\")"
   ]
  },
  {
   "cell_type": "code",
   "execution_count": 13,
   "id": "a7922cbf",
   "metadata": {},
   "outputs": [
    {
     "data": {
      "image/png": "[encoded data removed]",
      "text/plain": [
       "plot without title"
      ]
     },
     "metadata": {},
     "output_type": "display_data"
    }
   ],
   "source": [
    "X    <- seq(0,10)\n",
    "DF   <- data.frame(X=X)\n",
    "\n",
    "Gpoiss    <- function(){\n",
    "    Gpois.func <- function(x){return(1- ppois(x, lambda = 1/2))}\n",
    "    pois <- vector()\n",
    "    for (x in X){pois <- append(pois, Gpois.func(x))}\n",
    "    DF$G.POIS       <<- pois\n",
    "    DF$markov.bound <<- (0.5/X)  #E = lambda = 1/2\n",
    "}    \n",
    "Gpoiss()\n",
    "\n",
    "ggplot(data = DF, aes(x = X)) +\n",
    "  geom_line(aes(y = G.POIS     , colour = \"G.POISS\"), lwd=0.7) + \n",
    "  geom_line(aes(y = markov.bound, colour = \"Markov.Bound\"), linetype = \"dashed\", lwd=0.7) +\n",
    "  labs(title = \"G(k) and Markov Bound on Poisson Dist.\",\n",
    "         x = \"X\",\n",
    "         y = \"Prob.\")"
   ]
  },
  {
   "cell_type": "markdown",
   "id": "73a797a5",
   "metadata": {},
   "source": [
    "## Exercise 3 - Chebyshev’s inequality"
   ]
  },
  {
   "cell_type": "code",
   "execution_count": 14,
   "id": "d95299dc",
   "metadata": {},
   "outputs": [
    {
     "data": {
      "image/png": "[encoded data removed]",
      "text/plain": [
       "plot without title"
      ]
     },
     "metadata": {},
     "output_type": "display_data"
    }
   ],
   "source": [
    "options(repr.plot.width=5, repr.plot.height =3)  #changing size of plots\n",
    "\n",
    "X     <- seq(1,10,0.01)\n",
    "DF    <- data.frame(X=X)\n",
    "sigma <-5 \n",
    "u     <-3\n",
    "Gnorm    <- function(){\n",
    "    Gnorm.func <- function(x){return(1-pnorm(x*sigma+u,mean=u,sd=sigma)+pnorm(u-x*sigma,mean=u,sd=sigma))}\n",
    "    norm <- vector()\n",
    "    for (x in X){norm <- append(norm, Gnorm.func(x))}\n",
    "    DF$G.NORM        <<- norm\n",
    "    DF$cheb.bound <<- (1/X**2)  \n",
    "}\n",
    "\n",
    "Gnorm()\n",
    "\n",
    "ggplot(data = DF, aes(x = X)) +\n",
    "  geom_line(aes(y = G.NORM, colour = \"Normal Dist.\"), lwd=0.7) + \n",
    "  geom_line(aes(y = cheb.bound, colour = \"Cheb.Bound\"), linetype = \"dashed\", lwd=0.7) +\n",
    "  labs(title = \"Chebyshev’s Inequality Upper bound on Normal Dist.\",\n",
    "         x = \"X\",\n",
    "         y = \"Prob.\")"
   ]
  },
  {
   "cell_type": "code",
   "execution_count": 15,
   "id": "a88c5da4",
   "metadata": {},
   "outputs": [
    {
     "data": {
      "image/png": "[encoded data removed]",
      "text/plain": [
       "plot without title"
      ]
     },
     "metadata": {},
     "output_type": "display_data"
    }
   ],
   "source": [
    "X     <- seq(1,10,0.01)\n",
    "DF    <- data.frame(X=X)\n",
    "\n",
    "lambda <- 1  \n",
    "u      <- 1/lambda\n",
    "sigma  <- sqrt(1/(lambda**2)) \n",
    "\n",
    "Gexp    <- function(){\n",
    "    Gexp.func <- function(x){return(1-pexp(x*sigma+u,rate=lambda)+pexp(u-x*sigma,rate=lambda))}\n",
    "    exp <- vector()\n",
    "    for (x in X){exp <- append(exp, Gexp.func(x))}\n",
    "    DF$G.EXP       <<- exp\n",
    "    DF$cheb.bound <<- (1/X**2)  \n",
    "}\n",
    "\n",
    "Gexp()\n",
    "\n",
    "ggplot(data = DF, aes(x = X)) +\n",
    "  geom_line(aes(y = G.EXP, colour = \"Exponential Dist.\"), lwd=0.7) + \n",
    "  geom_line(aes(y = cheb.bound, colour = \"Cheb.Bound\"), linetype = \"dashed\", lwd=0.7) +\n",
    "  labs(title = \"Chebyshev’s Inequality Upper bound on Exponential Dist.\",\n",
    "         x = \"X\",\n",
    "         y = \"Prob.\")"
   ]
  },
  {
   "cell_type": "code",
   "execution_count": 16,
   "id": "fa70b753",
   "metadata": {},
   "outputs": [
    {
     "data": {
      "image/png": "[encoded data removed]",
      "text/plain": [
       "plot without title"
      ]
     },
     "metadata": {},
     "output_type": "display_data"
    }
   ],
   "source": [
    "X     <- seq(1,10,0.01)\n",
    "DF    <- data.frame(X=X)\n",
    "\n",
    "a     <- 1-sqrt(2)\n",
    "b     <- 1+sqrt(2)\n",
    "sigma <- sqrt(((a+b)**2)/12)\n",
    "u     <- (a+b)/2 \n",
    "\n",
    "Guni    <- function(){\n",
    "    Guni.func <- function(x){return(1-punif(x*sigma+u,min=a,max=b)+punif(u-x*sigma,min=a,max=b))}\n",
    "    uni <- vector()\n",
    "    for (x in X){uni <- append(uni, Guni.func(x))}\n",
    "    DF$G.UNI       <<- uni\n",
    "    DF$cheb.bound  <<- (1/X**2)  \n",
    "}\n",
    "\n",
    "Guni()\n",
    "\n",
    "ggplot(data = DF, aes(x = X)) +\n",
    "  geom_line(aes(y = G.UNI, colour = \"G.UNI\"), lwd=0.7) + \n",
    "  geom_line(aes(y = cheb.bound, colour = \"cheb.bound\"), linetype = \"dashed\", lwd=0.7) +\n",
    "  labs(title = \"Chebyshev’s Inequality Upper bound on Uniform Dist.\",\n",
    "         x = \"X\",\n",
    "         y = \"Prob.\")"
   ]
  },
  {
   "cell_type": "code",
   "execution_count": 17,
   "id": "c3791cde",
   "metadata": {},
   "outputs": [
    {
     "data": {
      "image/png": "[encoded data removed]",
      "text/plain": [
       "plot without title"
      ]
     },
     "metadata": {},
     "output_type": "display_data"
    }
   ],
   "source": [
    "X     <- seq(1,10,0.01)\n",
    "DF    <- data.frame(X=X)\n",
    "\n",
    "lamda <- 1/3\n",
    "u     <- lamda       # in poisson dis. \n",
    "sigma <- sqrt(lambda)   \n",
    "\n",
    "Gpois    <- function(){\n",
    "    Gpois.func <- function(x){return(1-ppois(x*sigma+u,lambda=lambda)+ppois(u-x*sigma,lambda=lamda))}\n",
    "    pois <- vector()\n",
    "    for (x in X){pois <- append(pois, Gpois.func(x))}\n",
    "    DF$G.POIS      <<- pois\n",
    "    DF$cheb.bound  <<- (1/X**2)  \n",
    "}\n",
    "\n",
    "Gpois()\n",
    "\n",
    "ggplot(data = DF, aes(x = X)) +\n",
    "  geom_line(aes(y = G.POIS, colour = \"G.UNI\"), lwd=0.7) + \n",
    "  geom_line(aes(y = cheb.bound, colour = \"cheb.bound\"), linetype = \"dashed\", lwd=0.7) + \n",
    "  labs(title = \"Chebyshev’s Inequality Upper bound on Poisson Dist.\",\n",
    "         x = \"X\",\n",
    "         y = \"Prob.\")"
   ]
  },
  {
   "cell_type": "markdown",
   "id": "22f16341",
   "metadata": {},
   "source": [
    "## Exercise 4 - Six Boxes Toy Model : Inference"
   ]
  },
  {
   "cell_type": "code",
   "execution_count": 18,
   "id": "9578642f",
   "metadata": {},
   "outputs": [
    {
     "name": "stdout",
     "output_type": "stream",
     "text": [
      "Ball Extraction 1 (white) or 0 (black) or exit:1\n",
      "Ball Extraction 1 (white) or 0 (black) or exit:1\n",
      "Ball Extraction 1 (white) or 0 (black) or exit:1\n",
      "Ball Extraction 1 (white) or 0 (black) or exit:1\n",
      "Ball Extraction 1 (white) or 0 (black) or exit:1\n",
      "Ball Extraction 1 (white) or 0 (black) or exit:0\n",
      "Ball Extraction 1 (white) or 0 (black) or exit:1\n",
      "Ball Extraction 1 (white) or 0 (black) or exit:1\n",
      "Ball Extraction 1 (white) or 0 (black) or exit:1\n",
      "Ball Extraction 1 (white) or 0 (black) or exit:1\n",
      "Ball Extraction 1 (white) or 0 (black) or exit:1\n",
      "Ball Extraction 1 (white) or 0 (black) or exit:1\n",
      "Ball Extraction 1 (white) or 0 (black) or exit:1\n",
      "Ball Extraction 1 (white) or 0 (black) or exit:1\n",
      "Ball Extraction 1 (white) or 0 (black) or exit:1\n",
      "Ball Extraction 1 (white) or 0 (black) or exit:1\n",
      "Ball Extraction 1 (white) or 0 (black) or exit:0\n",
      "Ball Extraction 1 (white) or 0 (black) or exit:1\n",
      "Ball Extraction 1 (white) or 0 (black) or exit:1\n",
      "Ball Extraction 1 (white) or 0 (black) or exit:1\n",
      "Ball Extraction 1 (white) or 0 (black) or exit:1\n",
      "Ball Extraction 1 (white) or 0 (black) or exit:1\n",
      "Ball Extraction 1 (white) or 0 (black) or exit:exit\n"
     ]
    }
   ],
   "source": [
    "df    <- data.frame(N=0, H0=1/6 , H1=1/6 , H2=1/6 , H3=1/6 , H4=1/6 , H5=1/6)\n",
    "prob  <- rep(1/6, 6)\n",
    "j     <- c(0,1,2,3,4,5)\n",
    "state <- 0\n",
    "N     <- 0  #counting the number of tries\n",
    "\n",
    "while (state != 'exit'){\n",
    "    color <- readline(prompt = \"Ball Extraction 1 (white) or 0 (black) or exit:\")\n",
    "\n",
    "    if      (color == 1){prob <- (j/5 * prob)/sum(j/5 * prob)}\n",
    "    else if (color == 0){prob <- ((5-j)/5) * prob / sum(((5-j)/5) *prob)}\n",
    "    else    {break}\n",
    "    \n",
    "    N <- N+1\n",
    "    df[nrow(df) + 1,1:7] <- c(N,prob)}"
   ]
  },
  {
   "cell_type": "code",
   "execution_count": 26,
   "id": "329db033",
   "metadata": {},
   "outputs": [
    {
     "data": {
      "text/html": [
       "<table>\n",
       "<thead><tr><th scope=col>N</th><th scope=col>H0</th><th scope=col>H1</th><th scope=col>H2</th><th scope=col>H3</th><th scope=col>H4</th><th scope=col>H5</th></tr></thead>\n",
       "<tbody>\n",
       "\t<tr><td>0         </td><td>0.1666667 </td><td>0.1666667 </td><td>0.1666667 </td><td>0.16666667</td><td>0.16666667</td><td>0.1666667 </td></tr>\n",
       "\t<tr><td>1         </td><td>0.3333333 </td><td>0.2666667 </td><td>0.2000000 </td><td>0.13333333</td><td>0.06666667</td><td>0.0000000 </td></tr>\n",
       "\t<tr><td>2         </td><td>0.4545455 </td><td>0.2909091 </td><td>0.1636364 </td><td>0.07272727</td><td>0.01818182</td><td>0.0000000 </td></tr>\n",
       "\t<tr><td>3         </td><td>0.0000000 </td><td>0.3200000 </td><td>0.3600000 </td><td>0.24000000</td><td>0.08000000</td><td>0.0000000 </td></tr>\n",
       "\t<tr><td>4         </td><td>0.0000000 </td><td>0.3200000 </td><td>0.3600000 </td><td>0.24000000</td><td>0.08000000</td><td>0.0000000 </td></tr>\n",
       "\t<tr><td>5         </td><td>0.0000000 </td><td>0.4383562 </td><td>0.3698630 </td><td>0.16438356</td><td>0.02739726</td><td>0.0000000 </td></tr>\n",
       "</tbody>\n",
       "</table>\n"
      ],
      "text/latex": [
       "\\begin{tabular}{r|lllllll}\n",
       " N & H0 & H1 & H2 & H3 & H4 & H5\\\\\n",
       "\\hline\n",
       "\t 0          & 0.1666667  & 0.1666667  & 0.1666667  & 0.16666667 & 0.16666667 & 0.1666667 \\\\\n",
       "\t 1          & 0.3333333  & 0.2666667  & 0.2000000  & 0.13333333 & 0.06666667 & 0.0000000 \\\\\n",
       "\t 2          & 0.4545455  & 0.2909091  & 0.1636364  & 0.07272727 & 0.01818182 & 0.0000000 \\\\\n",
       "\t 3          & 0.0000000  & 0.3200000  & 0.3600000  & 0.24000000 & 0.08000000 & 0.0000000 \\\\\n",
       "\t 4          & 0.0000000  & 0.3200000  & 0.3600000  & 0.24000000 & 0.08000000 & 0.0000000 \\\\\n",
       "\t 5          & 0.0000000  & 0.4383562  & 0.3698630  & 0.16438356 & 0.02739726 & 0.0000000 \\\\\n",
       "\\end{tabular}\n"
      ],
      "text/markdown": [
       "\n",
       "| N | H0 | H1 | H2 | H3 | H4 | H5 |\n",
       "|---|---|---|---|---|---|---|\n",
       "| 0          | 0.1666667  | 0.1666667  | 0.1666667  | 0.16666667 | 0.16666667 | 0.1666667  |\n",
       "| 1          | 0.3333333  | 0.2666667  | 0.2000000  | 0.13333333 | 0.06666667 | 0.0000000  |\n",
       "| 2          | 0.4545455  | 0.2909091  | 0.1636364  | 0.07272727 | 0.01818182 | 0.0000000  |\n",
       "| 3          | 0.0000000  | 0.3200000  | 0.3600000  | 0.24000000 | 0.08000000 | 0.0000000  |\n",
       "| 4          | 0.0000000  | 0.3200000  | 0.3600000  | 0.24000000 | 0.08000000 | 0.0000000  |\n",
       "| 5          | 0.0000000  | 0.4383562  | 0.3698630  | 0.16438356 | 0.02739726 | 0.0000000  |\n",
       "\n"
      ],
      "text/plain": [
       "  N H0        H1        H2        H3         H4         H5       \n",
       "1 0 0.1666667 0.1666667 0.1666667 0.16666667 0.16666667 0.1666667\n",
       "2 1 0.3333333 0.2666667 0.2000000 0.13333333 0.06666667 0.0000000\n",
       "3 2 0.4545455 0.2909091 0.1636364 0.07272727 0.01818182 0.0000000\n",
       "4 3 0.0000000 0.3200000 0.3600000 0.24000000 0.08000000 0.0000000\n",
       "5 4 0.0000000 0.3200000 0.3600000 0.24000000 0.08000000 0.0000000\n",
       "6 5 0.0000000 0.4383562 0.3698630 0.16438356 0.02739726 0.0000000"
      ]
     },
     "metadata": {},
     "output_type": "display_data"
    }
   ],
   "source": [
    "head(df)"
   ]
  },
  {
   "cell_type": "code",
   "execution_count": 27,
   "id": "e8029cee",
   "metadata": {},
   "outputs": [
    {
     "data": {
      "text/html": [
       "<table>\n",
       "<thead><tr><th></th><th scope=col>N</th><th scope=col>H0</th><th scope=col>H1</th><th scope=col>H2</th><th scope=col>H3</th><th scope=col>H4</th><th scope=col>H5</th></tr></thead>\n",
       "<tbody>\n",
       "\t<tr><th scope=row>21</th><td>20          </td><td>0           </td><td>0.8858152   </td><td>0.1122376   </td><td>0.001946371 </td><td>8.447792e-07</td><td>0           </td></tr>\n",
       "</tbody>\n",
       "</table>\n"
      ],
      "text/latex": [
       "\\begin{tabular}{r|lllllll}\n",
       "  & N & H0 & H1 & H2 & H3 & H4 & H5\\\\\n",
       "\\hline\n",
       "\t21 & 20           & 0            & 0.8858152    & 0.1122376    & 0.001946371  & 8.447792e-07 & 0           \\\\\n",
       "\\end{tabular}\n"
      ],
      "text/markdown": [
       "\n",
       "| <!--/--> | N | H0 | H1 | H2 | H3 | H4 | H5 |\n",
       "|---|---|---|---|---|---|---|---|\n",
       "| 21 | 20           | 0            | 0.8858152    | 0.1122376    | 0.001946371  | 8.447792e-07 | 0            |\n",
       "\n"
      ],
      "text/plain": [
       "   N  H0 H1        H2        H3          H4           H5\n",
       "21 20 0  0.8858152 0.1122376 0.001946371 8.447792e-07 0 "
      ]
     },
     "metadata": {},
     "output_type": "display_data"
    }
   ],
   "source": [
    "tail(df, n= 1) #printing the final set of values"
   ]
  },
  {
   "cell_type": "code",
   "execution_count": 28,
   "id": "19a56ba0",
   "metadata": {},
   "outputs": [
    {
     "data": {
      "image/png": "[encoded data removed]",
      "text/plain": [
       "plot without title"
      ]
     },
     "metadata": {},
     "output_type": "display_data"
    }
   ],
   "source": [
    "DF <- melt(df ,  id.vars = 'N', variable.name = 'series')  #reshaping the dataframe for plot purposes\n",
    "\n",
    "options(repr.plot.width=10, repr.plot.height =6)  #changing size of plots\n",
    "ggplot(data = DF, aes(x = N, y = value)) +\n",
    "    geom_point(size=1) +\n",
    "    facet_wrap(facets = vars(series))+\n",
    "    labs(title = \"Probability of Each Box after in Nth Extraction\",\n",
    "         x = \"Nth Extraction\",\n",
    "         y = \"Probability of Box\")"
   ]
  },
  {
   "cell_type": "markdown",
   "id": "651dd3ed",
   "metadata": {},
   "source": [
    "## Exercise 5 - Six Boxes Toy Model : simulation"
   ]
  },
  {
   "cell_type": "code",
   "execution_count": 29,
   "id": "b4add9e1",
   "metadata": {},
   "outputs": [],
   "source": [
    "df    <- data.frame(N=0, H0=1/6 , H1=1/6 , H2=1/6 , H3=1/6 , H4=1/6 , H5=1/6)\n",
    "prob  <- rep(1/6, 6)\n",
    "j     <- c(0,1,2,3,4,5)\n",
    "N     <- 0  #counting the number of tries\n",
    "\n",
    "selected.box <- sample(j, 1)\n",
    "box <- append(box, rep('white', selected.box))\n",
    "box <- append(box, rep('black', 5-selected.box))\n",
    "\n",
    "for (i in seq(1,20)){\n",
    "    \n",
    "    color <- sample(box, 1) #color of the extracted stone\n",
    "\n",
    "    if      (color == 'white'){prob <- (j/5 * prob)/sum(j/5 * prob)}\n",
    "    else if (color == 'black'){prob <- ((5-j)/5) * prob / sum(((5-j)/5) *prob)}\n",
    "    \n",
    "    N <- N+1\n",
    "    df[nrow(df) + 1,1:7] <- c(N,prob)}"
   ]
  },
  {
   "cell_type": "code",
   "execution_count": 30,
   "id": "c0faa232",
   "metadata": {},
   "outputs": [
    {
     "data": {
      "text/html": [
       "<table>\n",
       "<thead><tr><th scope=col>N</th><th scope=col>H0</th><th scope=col>H1</th><th scope=col>H2</th><th scope=col>H3</th><th scope=col>H4</th><th scope=col>H5</th></tr></thead>\n",
       "<tbody>\n",
       "\t<tr><td>0         </td><td>0.1666667 </td><td>0.1666667 </td><td>0.1666667 </td><td>0.1666667 </td><td>0.16666667</td><td>0.1666667 </td></tr>\n",
       "\t<tr><td>1         </td><td>0.3333333 </td><td>0.2666667 </td><td>0.2000000 </td><td>0.1333333 </td><td>0.06666667</td><td>0.0000000 </td></tr>\n",
       "\t<tr><td>2         </td><td>0.0000000 </td><td>0.2000000 </td><td>0.3000000 </td><td>0.3000000 </td><td>0.20000000</td><td>0.0000000 </td></tr>\n",
       "\t<tr><td>3         </td><td>0.0000000 </td><td>0.0800000 </td><td>0.2400000 </td><td>0.3600000 </td><td>0.32000000</td><td>0.0000000 </td></tr>\n",
       "\t<tr><td>4         </td><td>0.0000000 </td><td>0.1538462 </td><td>0.3461538 </td><td>0.3461538 </td><td>0.15384615</td><td>0.0000000 </td></tr>\n",
       "\t<tr><td>5         </td><td>0.0000000 </td><td>0.2461538 </td><td>0.4153846 </td><td>0.2769231 </td><td>0.06153846</td><td>0.0000000 </td></tr>\n",
       "</tbody>\n",
       "</table>\n"
      ],
      "text/latex": [
       "\\begin{tabular}{r|lllllll}\n",
       " N & H0 & H1 & H2 & H3 & H4 & H5\\\\\n",
       "\\hline\n",
       "\t 0          & 0.1666667  & 0.1666667  & 0.1666667  & 0.1666667  & 0.16666667 & 0.1666667 \\\\\n",
       "\t 1          & 0.3333333  & 0.2666667  & 0.2000000  & 0.1333333  & 0.06666667 & 0.0000000 \\\\\n",
       "\t 2          & 0.0000000  & 0.2000000  & 0.3000000  & 0.3000000  & 0.20000000 & 0.0000000 \\\\\n",
       "\t 3          & 0.0000000  & 0.0800000  & 0.2400000  & 0.3600000  & 0.32000000 & 0.0000000 \\\\\n",
       "\t 4          & 0.0000000  & 0.1538462  & 0.3461538  & 0.3461538  & 0.15384615 & 0.0000000 \\\\\n",
       "\t 5          & 0.0000000  & 0.2461538  & 0.4153846  & 0.2769231  & 0.06153846 & 0.0000000 \\\\\n",
       "\\end{tabular}\n"
      ],
      "text/markdown": [
       "\n",
       "| N | H0 | H1 | H2 | H3 | H4 | H5 |\n",
       "|---|---|---|---|---|---|---|\n",
       "| 0          | 0.1666667  | 0.1666667  | 0.1666667  | 0.1666667  | 0.16666667 | 0.1666667  |\n",
       "| 1          | 0.3333333  | 0.2666667  | 0.2000000  | 0.1333333  | 0.06666667 | 0.0000000  |\n",
       "| 2          | 0.0000000  | 0.2000000  | 0.3000000  | 0.3000000  | 0.20000000 | 0.0000000  |\n",
       "| 3          | 0.0000000  | 0.0800000  | 0.2400000  | 0.3600000  | 0.32000000 | 0.0000000  |\n",
       "| 4          | 0.0000000  | 0.1538462  | 0.3461538  | 0.3461538  | 0.15384615 | 0.0000000  |\n",
       "| 5          | 0.0000000  | 0.2461538  | 0.4153846  | 0.2769231  | 0.06153846 | 0.0000000  |\n",
       "\n"
      ],
      "text/plain": [
       "  N H0        H1        H2        H3        H4         H5       \n",
       "1 0 0.1666667 0.1666667 0.1666667 0.1666667 0.16666667 0.1666667\n",
       "2 1 0.3333333 0.2666667 0.2000000 0.1333333 0.06666667 0.0000000\n",
       "3 2 0.0000000 0.2000000 0.3000000 0.3000000 0.20000000 0.0000000\n",
       "4 3 0.0000000 0.0800000 0.2400000 0.3600000 0.32000000 0.0000000\n",
       "5 4 0.0000000 0.1538462 0.3461538 0.3461538 0.15384615 0.0000000\n",
       "6 5 0.0000000 0.2461538 0.4153846 0.2769231 0.06153846 0.0000000"
      ]
     },
     "metadata": {},
     "output_type": "display_data"
    }
   ],
   "source": [
    "head(df)"
   ]
  },
  {
   "cell_type": "code",
   "execution_count": 31,
   "id": "4a4e0301",
   "metadata": {},
   "outputs": [
    {
     "data": {
      "text/html": [
       "<table>\n",
       "<thead><tr><th></th><th scope=col>N</th><th scope=col>H0</th><th scope=col>H1</th><th scope=col>H2</th><th scope=col>H3</th><th scope=col>H4</th><th scope=col>H5</th></tr></thead>\n",
       "<tbody>\n",
       "\t<tr><th scope=row>21</th><td>20          </td><td>0           </td><td>0.1337278   </td><td>0.7229457   </td><td>0.1428041   </td><td>0.0005223744</td><td>0           </td></tr>\n",
       "</tbody>\n",
       "</table>\n"
      ],
      "text/latex": [
       "\\begin{tabular}{r|lllllll}\n",
       "  & N & H0 & H1 & H2 & H3 & H4 & H5\\\\\n",
       "\\hline\n",
       "\t21 & 20           & 0            & 0.1337278    & 0.7229457    & 0.1428041    & 0.0005223744 & 0           \\\\\n",
       "\\end{tabular}\n"
      ],
      "text/markdown": [
       "\n",
       "| <!--/--> | N | H0 | H1 | H2 | H3 | H4 | H5 |\n",
       "|---|---|---|---|---|---|---|---|\n",
       "| 21 | 20           | 0            | 0.1337278    | 0.7229457    | 0.1428041    | 0.0005223744 | 0            |\n",
       "\n"
      ],
      "text/plain": [
       "   N  H0 H1        H2        H3        H4           H5\n",
       "21 20 0  0.1337278 0.7229457 0.1428041 0.0005223744 0 "
      ]
     },
     "metadata": {},
     "output_type": "display_data"
    }
   ],
   "source": [
    "tail(df, n= 1) #printing the final set of values"
   ]
  },
  {
   "cell_type": "code",
   "execution_count": 32,
   "id": "befcf30b",
   "metadata": {},
   "outputs": [
    {
     "data": {
      "image/png": "[encoded data removed]",
      "text/plain": [
       "plot without title"
      ]
     },
     "metadata": {},
     "output_type": "display_data"
    }
   ],
   "source": [
    "DF <- melt(df ,  id.vars = 'N', variable.name = 'series')  #reshaping the dataframe for plot purposes\n",
    "\n",
    "options(repr.plot.width=10, repr.plot.height =6)  #changing size of plots\n",
    "ggplot(data = DF, aes(x = N, y = value)) +\n",
    "    geom_point(size=1) +\n",
    "    facet_wrap(facets = vars(series))+\n",
    "    labs(title = \"Probability of Each Box after in Nth Extraction (Simulation)\",\n",
    "         x = \"Nth Extraction\",\n",
    "         y = \"Probability of Box\")"
   ]
  }
 ],
 "metadata": {
  "kernelspec": {
   "display_name": "R",
   "language": "R",
   "name": "ir"
  },
  "language_info": {
   "codemirror_mode": "r",
   "file_extension": ".r",
   "mimetype": "text/x-r-source",
   "name": "R",
   "pygments_lexer": "r",
   "version": "3.6.1"
  }
 },
 "nbformat": 4,
 "nbformat_minor": 5
}
